{
 "cells": [
  {
   "cell_type": "code",
   "execution_count": 15,
   "id": "3dd9827e-ebe4-4388-9dc9-054f941e665d",
   "metadata": {},
   "outputs": [
    {
     "name": "stdout",
     "output_type": "stream",
     "text": [
      "Found existing installation: evidently 0.7.6\n",
      "Uninstalling evidently-0.7.6:\n",
      "  Successfully uninstalled evidently-0.7.6\n",
      "Note: you may need to restart the kernel to use updated packages.\n"
     ]
    }
   ],
   "source": [
    "pip uninstall evidently -y"
   ]
  },
  {
   "cell_type": "code",
   "execution_count": 17,
   "id": "3ce70123-bba8-4fa1-a6ea-796ed9d43df6",
   "metadata": {},
   "outputs": [
    {
     "name": "stdout",
     "output_type": "stream",
     "text": [
      "Collecting evidently==0.4.15\n",
      "  Downloading evidently-0.4.15-py3-none-any.whl.metadata (12 kB)\n",
      "Requirement already satisfied: plotly>=5.5.0 in c:\\users\\chouh\\anaconda3\\lib\\site-packages (from evidently==0.4.15) (5.24.1)\n",
      "Requirement already satisfied: statsmodels>=0.12.2 in c:\\users\\chouh\\anaconda3\\lib\\site-packages (from evidently==0.4.15) (0.14.4)\n",
      "Requirement already satisfied: scikit-learn>=0.24.0 in c:\\users\\chouh\\anaconda3\\lib\\site-packages (from evidently==0.4.15) (1.6.1)\n",
      "Requirement already satisfied: pandas>=1.3.5 in c:\\users\\chouh\\anaconda3\\lib\\site-packages (from pandas[parquet]>=1.3.5->evidently==0.4.15) (2.2.2)\n",
      "Requirement already satisfied: numpy>=1.19.5 in c:\\users\\chouh\\anaconda3\\lib\\site-packages (from evidently==0.4.15) (1.26.4)\n",
      "Requirement already satisfied: nltk>=3.6.7 in c:\\users\\chouh\\anaconda3\\lib\\site-packages (from evidently==0.4.15) (3.9.1)\n",
      "Requirement already satisfied: scipy>=1.5.4 in c:\\users\\chouh\\anaconda3\\lib\\site-packages (from evidently==0.4.15) (1.13.1)\n",
      "Requirement already satisfied: requests>=2.21.0 in c:\\users\\chouh\\anaconda3\\lib\\site-packages (from evidently==0.4.15) (2.32.3)\n",
      "Requirement already satisfied: PyYAML>=5.1 in c:\\users\\chouh\\anaconda3\\lib\\site-packages (from evidently==0.4.15) (6.0.1)\n",
      "Requirement already satisfied: pydantic<2 in c:\\users\\chouh\\anaconda3\\lib\\site-packages (from evidently==0.4.15) (1.10.22)\n",
      "Requirement already satisfied: fastapi>=0.100.0 in c:\\users\\chouh\\anaconda3\\lib\\site-packages (from evidently==0.4.15) (0.115.12)\n",
      "Collecting fastapi-restful>=0.5.0 (from evidently==0.4.15)\n",
      "  Downloading fastapi_restful-0.6.0-py3-none-any.whl.metadata (5.4 kB)\n",
      "Requirement already satisfied: typing-inspect>=0.9.0 in c:\\users\\chouh\\anaconda3\\lib\\site-packages (from evidently==0.4.15) (0.9.0)\n",
      "Requirement already satisfied: uvicorn>=0.22.0 in c:\\users\\chouh\\anaconda3\\lib\\site-packages (from evidently==0.4.15) (0.34.2)\n",
      "Requirement already satisfied: watchdog>=3 in c:\\users\\chouh\\anaconda3\\lib\\site-packages (from evidently==0.4.15) (4.0.2)\n",
      "Requirement already satisfied: typer>=0.3 in c:\\users\\chouh\\anaconda3\\lib\\site-packages (from evidently==0.4.15) (0.15.4)\n",
      "Requirement already satisfied: rich>=13 in c:\\users\\chouh\\anaconda3\\lib\\site-packages (from evidently==0.4.15) (13.7.1)\n",
      "Requirement already satisfied: iterative-telemetry>=0.0.5 in c:\\users\\chouh\\anaconda3\\lib\\site-packages (from evidently==0.4.15) (0.0.10)\n",
      "Requirement already satisfied: fsspec in c:\\users\\chouh\\anaconda3\\lib\\site-packages (from evidently==0.4.15) (2024.6.1)\n",
      "Requirement already satisfied: starlette<0.47.0,>=0.40.0 in c:\\users\\chouh\\anaconda3\\lib\\site-packages (from fastapi>=0.100.0->evidently==0.4.15) (0.46.2)\n",
      "Requirement already satisfied: typing-extensions>=4.8.0 in c:\\users\\chouh\\anaconda3\\lib\\site-packages (from fastapi>=0.100.0->evidently==0.4.15) (4.13.2)\n",
      "Requirement already satisfied: psutil<6,>=5 in c:\\users\\chouh\\anaconda3\\lib\\site-packages (from fastapi-restful>=0.5.0->evidently==0.4.15) (5.9.0)\n",
      "Requirement already satisfied: appdirs in c:\\users\\chouh\\anaconda3\\lib\\site-packages (from iterative-telemetry>=0.0.5->evidently==0.4.15) (1.4.4)\n",
      "Requirement already satisfied: filelock in c:\\users\\chouh\\anaconda3\\lib\\site-packages (from iterative-telemetry>=0.0.5->evidently==0.4.15) (3.13.1)\n",
      "Requirement already satisfied: distro in c:\\users\\chouh\\anaconda3\\lib\\site-packages (from iterative-telemetry>=0.0.5->evidently==0.4.15) (1.9.0)\n",
      "Requirement already satisfied: click in c:\\users\\chouh\\anaconda3\\lib\\site-packages (from nltk>=3.6.7->evidently==0.4.15) (8.1.7)\n",
      "Requirement already satisfied: joblib in c:\\users\\chouh\\anaconda3\\lib\\site-packages (from nltk>=3.6.7->evidently==0.4.15) (1.4.2)\n",
      "Requirement already satisfied: regex>=2021.8.3 in c:\\users\\chouh\\anaconda3\\lib\\site-packages (from nltk>=3.6.7->evidently==0.4.15) (2024.11.6)\n",
      "Requirement already satisfied: tqdm in c:\\users\\chouh\\anaconda3\\lib\\site-packages (from nltk>=3.6.7->evidently==0.4.15) (4.66.5)\n",
      "Requirement already satisfied: python-dateutil>=2.8.2 in c:\\users\\chouh\\anaconda3\\lib\\site-packages (from pandas>=1.3.5->pandas[parquet]>=1.3.5->evidently==0.4.15) (2.9.0.post0)\n",
      "Requirement already satisfied: pytz>=2020.1 in c:\\users\\chouh\\anaconda3\\lib\\site-packages (from pandas>=1.3.5->pandas[parquet]>=1.3.5->evidently==0.4.15) (2024.1)\n",
      "Requirement already satisfied: tzdata>=2022.7 in c:\\users\\chouh\\anaconda3\\lib\\site-packages (from pandas>=1.3.5->pandas[parquet]>=1.3.5->evidently==0.4.15) (2023.3)\n",
      "Requirement already satisfied: pyarrow>=10.0.1 in c:\\users\\chouh\\anaconda3\\lib\\site-packages (from pandas[parquet]>=1.3.5->evidently==0.4.15) (19.0.1)\n",
      "Requirement already satisfied: tenacity>=6.2.0 in c:\\users\\chouh\\anaconda3\\lib\\site-packages (from plotly>=5.5.0->evidently==0.4.15) (9.1.2)\n",
      "Requirement already satisfied: packaging in c:\\users\\chouh\\anaconda3\\lib\\site-packages (from plotly>=5.5.0->evidently==0.4.15) (24.1)\n",
      "Requirement already satisfied: charset-normalizer<4,>=2 in c:\\users\\chouh\\anaconda3\\lib\\site-packages (from requests>=2.21.0->evidently==0.4.15) (3.3.2)\n",
      "Requirement already satisfied: idna<4,>=2.5 in c:\\users\\chouh\\anaconda3\\lib\\site-packages (from requests>=2.21.0->evidently==0.4.15) (3.7)\n",
      "Requirement already satisfied: urllib3<3,>=1.21.1 in c:\\users\\chouh\\anaconda3\\lib\\site-packages (from requests>=2.21.0->evidently==0.4.15) (2.2.3)\n",
      "Requirement already satisfied: certifi>=2017.4.17 in c:\\users\\chouh\\anaconda3\\lib\\site-packages (from requests>=2.21.0->evidently==0.4.15) (2025.4.26)\n",
      "Requirement already satisfied: markdown-it-py>=2.2.0 in c:\\users\\chouh\\anaconda3\\lib\\site-packages (from rich>=13->evidently==0.4.15) (2.2.0)\n",
      "Requirement already satisfied: pygments<3.0.0,>=2.13.0 in c:\\users\\chouh\\anaconda3\\lib\\site-packages (from rich>=13->evidently==0.4.15) (2.15.1)\n",
      "Requirement already satisfied: threadpoolctl>=3.1.0 in c:\\users\\chouh\\anaconda3\\lib\\site-packages (from scikit-learn>=0.24.0->evidently==0.4.15) (3.5.0)\n",
      "Requirement already satisfied: patsy>=0.5.6 in c:\\users\\chouh\\anaconda3\\lib\\site-packages (from statsmodels>=0.12.2->evidently==0.4.15) (1.0.1)\n",
      "Requirement already satisfied: shellingham>=1.3.0 in c:\\users\\chouh\\anaconda3\\lib\\site-packages (from typer>=0.3->evidently==0.4.15) (1.5.0)\n",
      "Requirement already satisfied: mypy-extensions>=0.3.0 in c:\\users\\chouh\\anaconda3\\lib\\site-packages (from typing-inspect>=0.9.0->evidently==0.4.15) (1.1.0)\n",
      "Requirement already satisfied: h11>=0.8 in c:\\users\\chouh\\anaconda3\\lib\\site-packages (from uvicorn>=0.22.0->evidently==0.4.15) (0.14.0)\n",
      "Requirement already satisfied: colorama in c:\\users\\chouh\\anaconda3\\lib\\site-packages (from click->nltk>=3.6.7->evidently==0.4.15) (0.4.6)\n",
      "Requirement already satisfied: mdurl~=0.1 in c:\\users\\chouh\\anaconda3\\lib\\site-packages (from markdown-it-py>=2.2.0->rich>=13->evidently==0.4.15) (0.1.0)\n",
      "Requirement already satisfied: six>=1.5 in c:\\users\\chouh\\anaconda3\\lib\\site-packages (from python-dateutil>=2.8.2->pandas>=1.3.5->pandas[parquet]>=1.3.5->evidently==0.4.15) (1.16.0)\n",
      "Requirement already satisfied: anyio<5,>=3.6.2 in c:\\users\\chouh\\anaconda3\\lib\\site-packages (from starlette<0.47.0,>=0.40.0->fastapi>=0.100.0->evidently==0.4.15) (4.2.0)\n",
      "Requirement already satisfied: sniffio>=1.1 in c:\\users\\chouh\\anaconda3\\lib\\site-packages (from anyio<5,>=3.6.2->starlette<0.47.0,>=0.40.0->fastapi>=0.100.0->evidently==0.4.15) (1.3.0)\n",
      "Downloading evidently-0.4.15-py3-none-any.whl (3.4 MB)\n",
      "   ---------------------------------------- 0.0/3.4 MB ? eta -:--:--\n",
      "   --- ------------------------------------ 0.3/3.4 MB ? eta -:--:--\n",
      "   --------- ------------------------------ 0.8/3.4 MB 4.2 MB/s eta 0:00:01\n",
      "   ------------------------------- -------- 2.6/3.4 MB 5.2 MB/s eta 0:00:01\n",
      "   ---------------------------------------- 3.4/3.4 MB 5.7 MB/s eta 0:00:00\n",
      "Downloading fastapi_restful-0.6.0-py3-none-any.whl (18 kB)\n",
      "Installing collected packages: fastapi-restful, evidently\n",
      "Successfully installed evidently-0.4.15 fastapi-restful-0.6.0\n",
      "Note: you may need to restart the kernel to use updated packages.\n"
     ]
    }
   ],
   "source": [
    "pip install evidently==0.4.15"
   ]
  },
  {
   "cell_type": "code",
   "execution_count": null,
   "id": "ecf1e705-7bfd-4d90-bbb7-6d25a3701ea0",
   "metadata": {},
   "outputs": [],
   "source": []
  },
  {
   "cell_type": "code",
   "execution_count": null,
   "id": "cb8058b0-bc84-459f-b427-37f2c1a9b475",
   "metadata": {},
   "outputs": [],
   "source": []
  },
  {
   "cell_type": "code",
   "execution_count": null,
   "id": "3b69d71d-00ab-4390-956a-e235b6eec381",
   "metadata": {},
   "outputs": [],
   "source": []
  },
  {
   "cell_type": "code",
   "execution_count": null,
   "id": "f25157f1-fd97-41a1-a5b9-6968e0bb8fc5",
   "metadata": {},
   "outputs": [],
   "source": []
  },
  {
   "cell_type": "code",
   "execution_count": null,
   "id": "42c9ec62-4338-4e0f-b0d7-fe47e1f4fc32",
   "metadata": {},
   "outputs": [],
   "source": []
  },
  {
   "cell_type": "code",
   "execution_count": null,
   "id": "78bbc367-91e6-4fbd-a7ae-a1faeb8edced",
   "metadata": {},
   "outputs": [],
   "source": []
  },
  {
   "cell_type": "code",
   "execution_count": 19,
   "id": "20e95e72-5f82-4bfe-8914-1bd7ed53c540",
   "metadata": {},
   "outputs": [],
   "source": [
    "import pandas as pd\n",
    "from evidently import Report\n",
    "from evidently.metrics import *\n",
    "from evidently.presets import *\n",
    "from evidently import Dataset\n",
    "from evidently import DataDefinition"
   ]
  },
  {
   "cell_type": "code",
   "execution_count": 21,
   "id": "718bc5b3-4991-4a34-baa4-ad8351104337",
   "metadata": {},
   "outputs": [
    {
     "data": {
      "text/plain": [
       "<evidently.core.report.Report at 0x1ac5a6654c0>"
      ]
     },
     "execution_count": 21,
     "metadata": {},
     "output_type": "execute_result"
    }
   ],
   "source": [
    "# Chargement des données\n",
    "df_train = pd.read_csv(r\"C:\\Users\\chouh\\Ouhabi_Chadi_n°7_Implémentez_un_modèle_de_scoring_052025\\data\\raw\\application_train.csv\").drop(columns=[\"TARGET\"])\n",
    "df_test = pd.read_csv(r\"C:\\Users\\chouh\\Ouhabi_Chadi_n°7_Implémentez_un_modèle_de_scoring_052025\\data\\raw\\application_test.csv\")\n",
    "\n",
    "# Patch : corriger types pour éviter erreurs\n",
    "for col in df_train.columns:\n",
    "    if df_train[col].dtype == 'float' and df_train[col].nunique() < 20:\n",
    "        df_train[col] = df_train[col].astype(str)\n",
    "        df_test[col] = df_test[col].astype(str)\n",
    "    elif df_train[col].dtype == 'bool':\n",
    "        df_train[col] = df_train[col].astype(str)\n",
    "        df_test[col] = df_test[col].astype(str)\n",
    "    elif df_train[col].dtype == 'object':\n",
    "        df_train[col] = df_train[col].astype(str)\n",
    "        df_test[col] = df_test[col].astype(str)\n",
    "\n",
    "# Création des Dataset\n",
    "ref_data = Dataset.from_pandas(df_train, data_definition=DataDefinition())\n",
    "cur_data = Dataset.from_pandas(df_test, data_definition=DataDefinition())\n",
    "\n",
    "# Création du rapport\n",
    "report = Report(metrics=[\n",
    "    DataDriftPreset(),\n",
    "    DataSummaryPreset()\n",
    "])\n",
    "\n",
    "# Exécution du rapport\n",
    "report.run(reference_data=ref_data, current_data=cur_data)\n",
    "\n",
    "# Dernière ligne → affichage automatique du widget\n",
    "report"
   ]
  },
  {
   "cell_type": "code",
   "execution_count": 13,
   "id": "c837335c-750a-4d8e-8063-803cd07356c6",
   "metadata": {},
   "outputs": [
    {
     "data": {
      "text/plain": [
       "<evidently.core.report.Report at 0x1ac41b0b470>"
      ]
     },
     "execution_count": 13,
     "metadata": {},
     "output_type": "execute_result"
    }
   ],
   "source": [
    "report"
   ]
  }
 ],
 "metadata": {
  "kernelspec": {
   "display_name": "Python [conda env:base] *",
   "language": "python",
   "name": "conda-base-py"
  },
  "language_info": {
   "codemirror_mode": {
    "name": "ipython",
    "version": 3
   },
   "file_extension": ".py",
   "mimetype": "text/x-python",
   "name": "python",
   "nbconvert_exporter": "python",
   "pygments_lexer": "ipython3",
   "version": "3.12.7"
  }
 },
 "nbformat": 4,
 "nbformat_minor": 5
}
